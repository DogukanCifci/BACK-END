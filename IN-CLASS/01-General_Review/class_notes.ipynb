{
 "cells": [
  {
   "cell_type": "code",
   "execution_count": 6,
   "metadata": {},
   "outputs": [
    {
     "name": "stdout",
     "output_type": "stream",
     "text": [
      "This is string output \n",
      "\"merhaba\"\n"
     ]
    }
   ],
   "source": [
    "#this is a comment\n",
    "i = 5\n",
    "print(\"This is string output \\n\\\"merhaba\\\"\")"
   ]
  },
  {
   "cell_type": "code",
   "execution_count": 3,
   "metadata": {},
   "outputs": [
    {
     "name": "stdout",
     "output_type": "stream",
     "text": [
      "ab\n"
     ]
    }
   ],
   "source": [
    "a = \"hello\"\n",
    "b= 'hello'\n",
    "c  =\"\"\"\n",
    "merhaba\n",
    "multiline \n",
    "kullanimi \n",
    "icin \n",
    "tirnak\n",
    "\"\"\" \n"
   ]
  },
  {
   "cell_type": "code",
   "execution_count": 8,
   "metadata": {},
   "outputs": [
    {
     "name": "stdout",
     "output_type": "stream",
     "text": [
      "['a', 'b', 'c', 1, 2, 3]\n",
      "['a', 'b', 'abcd', 'c', 1, 2, 3]\n"
     ]
    }
   ],
   "source": [
    "list1 = [\"a\",\"b\", \"c\"]\n",
    "list2 = [1,2,3]\n",
    "\n",
    "list1.extend(list2)\n",
    "print(list1)\n",
    "\n",
    "list1.insert(2,\"abcd\") #2.indise \"abcd elemanini yerlestir\"\n",
    "print(list1)"
   ]
  },
  {
   "cell_type": "code",
   "execution_count": 17,
   "metadata": {},
   "outputs": [
    {
     "name": "stdout",
     "output_type": "stream",
     "text": [
      "Ford\n",
      "Mustang\n",
      "There is no such a key!\n",
      "{'brand': 'Ford', 'model': 'Mustang', 'year': 1969, 'engine': 1.6}\n",
      "dict_keys(['brand', 'model', 'year', 'engine'])\n",
      "dict_values(['Ford', 'Mustang', 1969, 1.6])\n",
      "dict_items([('brand', 'Ford'), ('model', 'Mustang'), ('year', 1969), ('engine', 1.6)])\n"
     ]
    }
   ],
   "source": [
    "thisDict = {\n",
    "    \"brand\" : \"Ford\",\n",
    "    \"model\" : \"Mustang\",\n",
    "    \"year\" : 1969\n",
    "}\n",
    "x = thisDict.get(\"brand\") #belirttigimiz keyword olmasa da hata vermez. bU sebeple istersek bir default deger verebiliriz.\n",
    "print(x)\n",
    "\n",
    "y = thisDict.get(\"model\", \"There is no such a key!\")\n",
    "print(y)\n",
    "\n",
    "z = thisDict.get(\"date\", \"There is no such a key!\")\n",
    "print(z)\n",
    "\n",
    "#Yeni key : value ekleyebiliriz ya da var olan bir degeri degistirebiliiriz.\n",
    "thisDict[\"engine\"] = 1.6\n",
    "print(thisDict)\n",
    "anahtarlar = thisDict.keys()\n",
    "print(anahtarlar)\n",
    "\n",
    "degerler = thisDict.values()\n",
    "print(degerler)\n",
    "\n",
    "key_value = thisDict.items()\n",
    "print(key_value)"
   ]
  },
  {
   "cell_type": "code",
   "execution_count": null,
   "metadata": {},
   "outputs": [],
   "source": []
  }
 ],
 "metadata": {
  "kernelspec": {
   "display_name": "Python 3.10.1 64-bit",
   "language": "python",
   "name": "python3"
  },
  "language_info": {
   "codemirror_mode": {
    "name": "ipython",
    "version": 3
   },
   "file_extension": ".py",
   "mimetype": "text/x-python",
   "name": "python",
   "nbconvert_exporter": "python",
   "pygments_lexer": "ipython3",
   "version": "3.10.4"
  },
  "orig_nbformat": 4,
  "vscode": {
   "interpreter": {
    "hash": "98590ff4fe04c8543246b2a01debd3de3c5ca9b666f43f1fa87d5110c692004c"
   }
  }
 },
 "nbformat": 4,
 "nbformat_minor": 2
}
